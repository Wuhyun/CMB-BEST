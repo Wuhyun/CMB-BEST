{
 "cells": [
  {
   "cell_type": "markdown",
   "metadata": {},
   "source": [
    "# CMB-BEST notebook\n",
    "\n",
    "This Jupyter notebook demonstrates how to use basic feature of the cmbbest library.\n",
    "\n",
    "For details about the formailism and its implementation, please refer to the accompanying paper."
   ]
  },
  {
   "cell_type": "code",
   "execution_count": 1,
   "metadata": {},
   "outputs": [],
   "source": [
    "import numpy as np\n",
    "import matplotlib.pyplot as plt\n",
    "\n",
    "## Load the cmbbest library\n",
    "import cmbbest as best\n",
    "\n",
    "## If you have the hdf5 data file in a non-standard location, provide it below\n",
    "# best.set_data_path(\"path_to_your_data_file\")"
   ]
  },
  {
   "cell_type": "markdown",
   "metadata": {},
   "source": [
    "We need two things to get fNL constraints using CMB-BEST: 1) a basis, and 2) a set of models (bispectrum templates).\n",
    "\n",
    "A basis specifies the type and size of the mode functions used, and also if polarization data is used."
   ]
  },
  {
   "cell_type": "code",
   "execution_count": 2,
   "metadata": {},
   "outputs": [],
   "source": [
    "## Prepare the basis for the cmb bispectrum\n",
    "## The default option is the Legendre basis, p_max=10, temperature + polarization.\n",
    "basis = best.Basis()\n",
    "\n",
    "## The following are some alternatives:\n",
    "# basis_T = best.Basis(polarization_on=False)     # Temperature-only analysis\n",
    "# basis_hires = best.Basis(mode_p_max=30)         # Higher resolution but slower     \n",
    "# basis_mono = best.Basis(\"Monomials\")            # KSW estimator (p_max fixed to 4)\n",
    "# basis_mono_T = best.Basis(\"Monomials\", polarization_on=False)  # KSW estimator, temperature-only\n",
    "# basis_osc = best.Basis(\"SineLegendre1000\")       # A targeted oscillatory basis with omega=1000 Mpc"
   ]
  },
  {
   "cell_type": "markdown",
   "metadata": {},
   "source": [
    "A model spcifies the bispectrum shape we would like to constrain.\n",
    "\n",
    "One can either 1) use a preset template, 2) provide any shape function as a Python function S(k1,k2,k3), or 3) provide numerical evaluations on a regular grid."
   ]
  },
  {
   "cell_type": "code",
   "execution_count": 3,
   "metadata": {},
   "outputs": [],
   "source": [
    "## Prepare the bispectrum shapes to constrain\n",
    "model_list = []\n",
    "\n",
    "## 1) Some preset shapes\n",
    "local = best.Model(\"local\")\n",
    "equil = best.Model(\"equilateral\")\n",
    "ortho = best.Model(\"orthogonal\")\n",
    "\n",
    "model_list = model_list + [local, equil, ortho]\n",
    "\n",
    "\n",
    "## 2) Using custom functions\n",
    "## Planck analysis often includes this factor in the templates for normalisation:\n",
    "factor = 6 * (basis.parameter_delta_phi ** 2)        \n",
    "\n",
    "def constant_shape(k_1, k_2, k_3):\n",
    "    ## A constant template\n",
    "    return factor * np.ones_like(k_1)\n",
    "\n",
    "const = best.Model(\"custom\",\n",
    "                   shape_function=constant_shape,\n",
    "                   shape_name=\"constant\")\n",
    "\n",
    "def feature_models(omega, phi):\n",
    "    ## Feature model with linear oscillations\n",
    "    ## Returns a shape function with given frequency and phase\n",
    "    def shape_function(k_1, k_2, k_3):\n",
    "        return factor * np.sin(omega * (k_1 + k_2 + k_3) + phi)\n",
    "    return shape_function\n",
    "\n",
    "feat_sin = best.Model(\"custom\",\n",
    "                      shape_function=feature_models(10, 0),\n",
    "                      shape_name=\"feature sin\")\n",
    "feat_cos = best.Model(\"custom\", \n",
    "                      shape_function=feature_models(10, np.pi/2),\n",
    "                      shape_name=\"feature cos\")\n",
    "## Note: for more oscillatory shapes, use the high resolution basis instead\n",
    "\n",
    "model_list = model_list + [const, feat_sin, feat_cos]\n",
    "\n",
    "\n",
    "## 3) Using numerical evaluations on a regular grid\n",
    "k_min, k_max = basis.mode_k_min, basis.mode_k_max   # k ranges needed for the basis\n",
    "k_grid = np.linspace(k_min, k_max, 50)\n",
    "k_1, k_2, k_3 = np.meshgrid(k_grid, k_grid, k_grid, indexing=\"ij\")\n",
    "\n",
    "## Below could be the result of some numerical code instead\n",
    "shape_evals = factor * np.exp(-0.5 * ((k_1 + k_2 + k_2 - 3 * 0.05) / 0.02) ** 2)\n",
    "\n",
    "sinlog = best.Model(\"custom_shape_evals\",\n",
    "                    grid_k_1=k_grid, grid_k_2=k_grid, grid_k_3=k_grid,\n",
    "                    shape_function_values=shape_evals,\n",
    "                    shape_name=\"exponential\")\n",
    "\n",
    "model_list = model_list + [sinlog]"
   ]
  },
  {
   "cell_type": "markdown",
   "metadata": {},
   "source": [
    "Now we have all the ingredients for the constraints.\n",
    "\n",
    "Getting constraints is a simple one-liner:"
   ]
  },
  {
   "cell_type": "code",
   "execution_count": 4,
   "metadata": {},
   "outputs": [
    {
     "name": "stdout",
     "output_type": "stream",
     "text": [
      "Shape #1/7 expanded\n",
      "Shape #2/7 expanded\n",
      "Shape #3/7 expanded\n",
      "Shape #4/7 expanded\n",
      "Shape #5/7 expanded\n",
      "Shape #6/7 expanded\n",
      "Shape #7/7 expanded\n",
      "Expansion complete.\n"
     ]
    }
   ],
   "source": [
    "constraints = basis.constrain_models(model_list)\n",
    "#constraints = basis.constrain_models(model_list, silent=True)  ## Suppress output"
   ]
  },
  {
   "cell_type": "markdown",
   "metadata": {},
   "source": [
    "The result is an instance of cmbbest.Constraints class, which provides some utility functions:"
   ]
  },
  {
   "cell_type": "code",
   "execution_count": 5,
   "metadata": {},
   "outputs": [
    {
     "data": {
      "text/html": [
       "<div>\n",
       "<style scoped>\n",
       "    .dataframe tbody tr th:only-of-type {\n",
       "        vertical-align: middle;\n",
       "    }\n",
       "\n",
       "    .dataframe tbody tr th {\n",
       "        vertical-align: top;\n",
       "    }\n",
       "\n",
       "    .dataframe thead th {\n",
       "        text-align: right;\n",
       "    }\n",
       "</style>\n",
       "<table border=\"1\" class=\"dataframe\">\n",
       "  <thead>\n",
       "    <tr style=\"text-align: right;\">\n",
       "      <th></th>\n",
       "      <th>shape_name</th>\n",
       "      <th>single_f_NL</th>\n",
       "      <th>single_sample_sigma</th>\n",
       "      <th>signal_to_noise</th>\n",
       "    </tr>\n",
       "  </thead>\n",
       "  <tbody>\n",
       "    <tr>\n",
       "      <th>0</th>\n",
       "      <td>local</td>\n",
       "      <td>-1.1</td>\n",
       "      <td>5.3</td>\n",
       "      <td>-2.1e-01</td>\n",
       "    </tr>\n",
       "    <tr>\n",
       "      <th>1</th>\n",
       "      <td>equilateral</td>\n",
       "      <td>-21.9</td>\n",
       "      <td>49.0</td>\n",
       "      <td>-4.5e-01</td>\n",
       "    </tr>\n",
       "    <tr>\n",
       "      <th>2</th>\n",
       "      <td>orthogonal</td>\n",
       "      <td>-31.9</td>\n",
       "      <td>24.0</td>\n",
       "      <td>-1.3e+00</td>\n",
       "    </tr>\n",
       "    <tr>\n",
       "      <th>3</th>\n",
       "      <td>constant</td>\n",
       "      <td>10.8</td>\n",
       "      <td>33.1</td>\n",
       "      <td>3.3e-01</td>\n",
       "    </tr>\n",
       "    <tr>\n",
       "      <th>4</th>\n",
       "      <td>feature sin</td>\n",
       "      <td>22.5</td>\n",
       "      <td>42.9</td>\n",
       "      <td>5.2e-01</td>\n",
       "    </tr>\n",
       "    <tr>\n",
       "      <th>5</th>\n",
       "      <td>feature cos</td>\n",
       "      <td>51.5</td>\n",
       "      <td>46.1</td>\n",
       "      <td>1.1e+00</td>\n",
       "    </tr>\n",
       "    <tr>\n",
       "      <th>6</th>\n",
       "      <td>exponential</td>\n",
       "      <td>7.7</td>\n",
       "      <td>97.0</td>\n",
       "      <td>7.9e-02</td>\n",
       "    </tr>\n",
       "  </tbody>\n",
       "</table>\n",
       "</div>"
      ],
      "text/plain": [
       "    shape_name  single_f_NL  single_sample_sigma  signal_to_noise\n",
       "0        local         -1.1                  5.3         -2.1e-01\n",
       "1  equilateral        -21.9                 49.0         -4.5e-01\n",
       "2   orthogonal        -31.9                 24.0         -1.3e+00\n",
       "3     constant         10.8                 33.1          3.3e-01\n",
       "4  feature sin         22.5                 42.9          5.2e-01\n",
       "5  feature cos         51.5                 46.1          1.1e+00\n",
       "6  exponential          7.7                 97.0          7.9e-02"
      ]
     },
     "metadata": {},
     "output_type": "display_data"
    },
    {
     "name": "stdout",
     "output_type": "stream",
     "text": [
      "\\begin{tabular}{lll}\n",
      "\\toprule\n",
      "      Shape &             Constraint & $f_\\mathrm{NL}/\\sigma(f_\\mathrm{NL})$ \\\\\n",
      "\\midrule\n",
      "      local & $-1.1e+00 \\pm 5.3e+00$ &                                 -0.21 \\\\\n",
      "equilateral & $-2.2e+01 \\pm 4.9e+01$ &                                 -0.45 \\\\\n",
      " orthogonal & $-3.2e+01 \\pm 2.4e+01$ &                                 -1.33 \\\\\n",
      "   constant &  $1.1e+01 \\pm 3.3e+01$ &                                  0.33 \\\\\n",
      "feature sin &  $2.2e+01 \\pm 4.3e+01$ &                                  0.52 \\\\\n",
      "feature cos &  $5.1e+01 \\pm 4.6e+01$ &                                  1.12 \\\\\n",
      "exponential &  $7.7e+00 \\pm 9.7e+01$ &                                  0.08 \\\\\n",
      "\\bottomrule\n",
      "\\end{tabular}\n",
      "\n"
     ]
    },
    {
     "name": "stderr",
     "output_type": "stream",
     "text": [
      "/var/folders/cp/q0v_t5w556s60f4_wf78xysr0000gn/T/ipykernel_22086/394906817.py:8: FutureWarning: In future versions `DataFrame.to_latex` is expected to utilise the base implementation of `Styler.to_latex` for formatting and rendering. The arguments signature may therefore change. It is recommended instead to use `DataFrame.style.to_latex` which also contains additional functionality.\n",
      "  print(constraints.summarize_latex())\n"
     ]
    }
   ],
   "source": [
    "## Get summary or the results\n",
    "import pandas as pd\n",
    "with pd.option_context('display.precision', 1):\n",
    "    display(constraints.summarize())           # Independent shape analysis\n",
    "    #display(constraints.summarize(\"joint\"))    # Joint analysis\n",
    "\n",
    "## Get summary table in a latex format\n",
    "print(constraints.summarize_latex())\n",
    "\n",
    "## Custom formatting:\n",
    "#formatter = lambda row: \"${:.1f} \\pm {:.1f}$\".format(row[\"single_f_NL\"], row[\"single_sample_sigma\"])\n",
    "#print(constraints.summarize_latex(formatter=formatter))"
   ]
  },
  {
   "cell_type": "code",
   "execution_count": 6,
   "metadata": {},
   "outputs": [
    {
     "data": {
      "text/html": [
       "<div>\n",
       "<style scoped>\n",
       "    .dataframe tbody tr th:only-of-type {\n",
       "        vertical-align: middle;\n",
       "    }\n",
       "\n",
       "    .dataframe tbody tr th {\n",
       "        vertical-align: top;\n",
       "    }\n",
       "\n",
       "    .dataframe thead th {\n",
       "        text-align: right;\n",
       "    }\n",
       "</style>\n",
       "<table border=\"1\" class=\"dataframe\">\n",
       "  <thead>\n",
       "    <tr style=\"text-align: right;\">\n",
       "      <th></th>\n",
       "      <th>shape_name</th>\n",
       "      <th>convergence_correlation</th>\n",
       "      <th>convergence_epsilon</th>\n",
       "      <th>convergence_MSE</th>\n",
       "      <th>single_f_NL</th>\n",
       "      <th>single_fisher_sigma</th>\n",
       "      <th>single_sample_sigma</th>\n",
       "      <th>single_LISW_bias</th>\n",
       "      <th>marginal_f_NL</th>\n",
       "      <th>marginal_fisher_sigma</th>\n",
       "      <th>marginal_sample_sigma</th>\n",
       "      <th>marginal_LISW_bias</th>\n",
       "    </tr>\n",
       "  </thead>\n",
       "  <tbody>\n",
       "    <tr>\n",
       "      <th>0</th>\n",
       "      <td>local</td>\n",
       "      <td>0.999871</td>\n",
       "      <td>0.016035</td>\n",
       "      <td>2.570924e-04</td>\n",
       "      <td>-1.090607</td>\n",
       "      <td>4.956441</td>\n",
       "      <td>5.308613</td>\n",
       "      <td>5.852253</td>\n",
       "      <td>-4.463543</td>\n",
       "      <td>6.551946</td>\n",
       "      <td>7.016319</td>\n",
       "      <td>7.437229</td>\n",
       "    </tr>\n",
       "    <tr>\n",
       "      <th>1</th>\n",
       "      <td>equilateral</td>\n",
       "      <td>1.000000</td>\n",
       "      <td>0.000461</td>\n",
       "      <td>2.129463e-07</td>\n",
       "      <td>-21.855935</td>\n",
       "      <td>45.101738</td>\n",
       "      <td>48.982510</td>\n",
       "      <td>0.538426</td>\n",
       "      <td>-1979.921491</td>\n",
       "      <td>2816.320288</td>\n",
       "      <td>2758.455353</td>\n",
       "      <td>-471.554290</td>\n",
       "    </tr>\n",
       "    <tr>\n",
       "      <th>2</th>\n",
       "      <td>orthogonal</td>\n",
       "      <td>0.999992</td>\n",
       "      <td>0.004113</td>\n",
       "      <td>1.691748e-05</td>\n",
       "      <td>-31.906637</td>\n",
       "      <td>21.950178</td>\n",
       "      <td>24.035169</td>\n",
       "      <td>-10.049864</td>\n",
       "      <td>599.164812</td>\n",
       "      <td>932.493856</td>\n",
       "      <td>910.394089</td>\n",
       "      <td>155.704920</td>\n",
       "    </tr>\n",
       "    <tr>\n",
       "      <th>3</th>\n",
       "      <td>constant</td>\n",
       "      <td>0.999998</td>\n",
       "      <td>0.001838</td>\n",
       "      <td>3.379628e-06</td>\n",
       "      <td>10.830584</td>\n",
       "      <td>29.627434</td>\n",
       "      <td>33.106102</td>\n",
       "      <td>7.557915</td>\n",
       "      <td>1649.643707</td>\n",
       "      <td>2366.410469</td>\n",
       "      <td>2315.548221</td>\n",
       "      <td>383.986494</td>\n",
       "    </tr>\n",
       "    <tr>\n",
       "      <th>4</th>\n",
       "      <td>feature sin</td>\n",
       "      <td>0.999999</td>\n",
       "      <td>0.001624</td>\n",
       "      <td>2.638598e-06</td>\n",
       "      <td>22.452955</td>\n",
       "      <td>38.157326</td>\n",
       "      <td>42.904082</td>\n",
       "      <td>7.791405</td>\n",
       "      <td>21.899598</td>\n",
       "      <td>105.118654</td>\n",
       "      <td>101.199657</td>\n",
       "      <td>-5.534927</td>\n",
       "    </tr>\n",
       "    <tr>\n",
       "      <th>5</th>\n",
       "      <td>feature cos</td>\n",
       "      <td>0.999998</td>\n",
       "      <td>0.002054</td>\n",
       "      <td>4.220491e-06</td>\n",
       "      <td>51.496486</td>\n",
       "      <td>48.374739</td>\n",
       "      <td>46.050193</td>\n",
       "      <td>-6.610699</td>\n",
       "      <td>192.716855</td>\n",
       "      <td>169.861057</td>\n",
       "      <td>163.400817</td>\n",
       "      <td>25.067658</td>\n",
       "    </tr>\n",
       "    <tr>\n",
       "      <th>6</th>\n",
       "      <td>exponential</td>\n",
       "      <td>0.976205</td>\n",
       "      <td>0.218150</td>\n",
       "      <td>4.702302e-02</td>\n",
       "      <td>7.659111</td>\n",
       "      <td>88.325408</td>\n",
       "      <td>96.986361</td>\n",
       "      <td>4.118418</td>\n",
       "      <td>-148.151771</td>\n",
       "      <td>140.721581</td>\n",
       "      <td>137.441215</td>\n",
       "      <td>-16.407612</td>\n",
       "    </tr>\n",
       "  </tbody>\n",
       "</table>\n",
       "</div>"
      ],
      "text/plain": [
       "    shape_name  convergence_correlation  convergence_epsilon  convergence_MSE  \\\n",
       "0        local                 0.999871             0.016035     2.570924e-04   \n",
       "1  equilateral                 1.000000             0.000461     2.129463e-07   \n",
       "2   orthogonal                 0.999992             0.004113     1.691748e-05   \n",
       "3     constant                 0.999998             0.001838     3.379628e-06   \n",
       "4  feature sin                 0.999999             0.001624     2.638598e-06   \n",
       "5  feature cos                 0.999998             0.002054     4.220491e-06   \n",
       "6  exponential                 0.976205             0.218150     4.702302e-02   \n",
       "\n",
       "   single_f_NL  single_fisher_sigma  single_sample_sigma  single_LISW_bias  \\\n",
       "0    -1.090607             4.956441             5.308613          5.852253   \n",
       "1   -21.855935            45.101738            48.982510          0.538426   \n",
       "2   -31.906637            21.950178            24.035169        -10.049864   \n",
       "3    10.830584            29.627434            33.106102          7.557915   \n",
       "4    22.452955            38.157326            42.904082          7.791405   \n",
       "5    51.496486            48.374739            46.050193         -6.610699   \n",
       "6     7.659111            88.325408            96.986361          4.118418   \n",
       "\n",
       "   marginal_f_NL  marginal_fisher_sigma  marginal_sample_sigma  \\\n",
       "0      -4.463543               6.551946               7.016319   \n",
       "1   -1979.921491            2816.320288            2758.455353   \n",
       "2     599.164812             932.493856             910.394089   \n",
       "3    1649.643707            2366.410469            2315.548221   \n",
       "4      21.899598             105.118654             101.199657   \n",
       "5     192.716855             169.861057             163.400817   \n",
       "6    -148.151771             140.721581             137.441215   \n",
       "\n",
       "   marginal_LISW_bias  \n",
       "0            7.437229  \n",
       "1         -471.554290  \n",
       "2          155.704920  \n",
       "3          383.986494  \n",
       "4           -5.534927  \n",
       "5           25.067658  \n",
       "6          -16.407612  "
      ]
     },
     "execution_count": 6,
     "metadata": {},
     "output_type": "execute_result"
    }
   ],
   "source": [
    "## Get the full result\n",
    "constraints.to_dataframe()\n",
    "\n",
    "## Save the result to a csv file\n",
    "## Note that this csv file contains only the constraints.\n",
    "# constraints.to_csv(\"results.csv\")"
   ]
  },
  {
   "cell_type": "markdown",
   "metadata": {},
   "source": [
    "When studying both the T and T+E constraints, you can save time by doing the basis expansion and saving the results.\n",
    "\n",
    "As long as the same basis functions are used, the expansion coefficients are the same and can be passed to get constraints faster."
   ]
  },
  {
   "cell_type": "code",
   "execution_count": 7,
   "metadata": {},
   "outputs": [
    {
     "name": "stdout",
     "output_type": "stream",
     "text": [
      "Shape #1/3 expanded\n",
      "Shape #2/3 expanded\n",
      "Shape #3/3 expanded\n",
      "Expansion complete.\n"
     ]
    }
   ],
   "source": [
    "basis_TE = best.Basis()\n",
    "basis_T = best.Basis(polarization_on=False)\n",
    "std_models = [best.Model(\"local\"), best.Model(\"equil\"), best.Model(\"ortho\")]\n",
    "\n",
    "## Compute the expansion coefficients\n",
    "coeff, shape_cov, conv_corr, conv_MSE = basis_TE.basis_expansion(std_models, check_convergence=True)\n",
    "# coeffs = basis_TE.basis_expansion(std_models, check_convergence=False)     # Skip convergence checks\n",
    "\n",
    "## Constrain models\n",
    "constraints_TE = basis_TE.constrain_models(std_models, coeff, conv_corr, conv_MSE)\n",
    "constraints_T = basis_T.constrain_models(std_models, coeff, conv_corr, conv_MSE)\n",
    "# constraints_TE = basis_TE.constrain_models(std_models, coeff)              # If you skipped checks\n",
    "# constraints_T = basis_T.constrain_models(std_models, coeff)"
   ]
  },
  {
   "cell_type": "markdown",
   "metadata": {},
   "source": [
    "A simple function using GetDist is provided to plot the (marginal) likelihood for the joint analyses.\n",
    "\n",
    "Note that the Fisher matrix is used in the plot, which may slighly underestimate the errors. For joint analysis with multiple shapes that are strongly correlated with each other, the plotmaking may fail or give unreliable results. Reduce the number of models under considerations in this case."
   ]
  },
  {
   "cell_type": "code",
   "execution_count": 8,
   "metadata": {},
   "outputs": [
    {
     "data": {
      "text/plain": [
       "<getdist.plots.GetDistPlotter at 0x168097430>"
      ]
     },
     "execution_count": 8,
     "metadata": {},
     "output_type": "execute_result"
    },
    {
     "data": {
      "image/png": "[encoded data removed]",
      "text/plain": [
       "<Figure size 600x600 with 6 Axes>"
      ]
     },
     "metadata": {},
     "output_type": "display_data"
    }
   ],
   "source": [
    "## Triangle plot of the fNL likelihood\n",
    "best.Constraints.triangle_plot([constraints_T, constraints_TE],\n",
    "                                constraints_labels=[\"Planck 2018 T\", \"Planck 2018 T+E\"],\n",
    "                                shape_labels=[(\"f_\\mathrm{NL}^\\mathrm{\\;\" + s + \"}\") for s in [\"Local\", \"Equil\", \"Ortho\"]],\n",
    "                                plot_kwargs={\"filled\": True})"
   ]
  }
 ],
 "metadata": {
  "kernelspec": {
   "display_name": "Python 3.10.6 ('cosmo10')",
   "language": "python",
   "name": "python3"
  },
  "language_info": {
   "codemirror_mode": {
    "name": "ipython",
    "version": 3
   },
   "file_extension": ".py",
   "mimetype": "text/x-python",
   "name": "python",
   "nbconvert_exporter": "python",
   "pygments_lexer": "ipython3",
   "version": "3.10.9"
  },
  "orig_nbformat": 4,
  "vscode": {
   "interpreter": {
    "hash": "9b2c71c17b3151a7962b58a4d15e64435e5650fa88865ca3c08f74deb8854505"
   }
  }
 },
 "nbformat": 4,
 "nbformat_minor": 2
}
